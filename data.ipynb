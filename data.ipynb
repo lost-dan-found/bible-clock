{
 "cells": [
  {
   "cell_type": "markdown",
   "id": "48d21a11",
   "metadata": {},
   "source": [
    "This notebook is used to aggregate data from our Bible json file and parse it into indivuadual minte files that can be loaded into our webpage. Source: https://www.kaggle.com/datasets/nirmalben/bible-nabre-in-json"
   ]
  },
  {
   "cell_type": "code",
   "execution_count": null,
   "id": "6afcb47e",
   "metadata": {
    "vscode": {
     "languageId": "plaintext"
    }
   },
   "outputs": [],
   "source": []
  }
 ],
 "metadata": {
  "language_info": {
   "name": "python"
  }
 },
 "nbformat": 4,
 "nbformat_minor": 5
}
