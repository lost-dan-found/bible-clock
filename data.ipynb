{
 "cells": [
  {
   "cell_type": "markdown",
   "id": "48d21a11",
   "metadata": {},
   "source": [
    "This notebook is used to aggregate data from our Bible json file and parse it into indivuadual minte files that can be loaded into our webpage. Source: https://www.kaggle.com/datasets/nirmalben/bible-nabre-in-json"
   ]
  },
  {
   "cell_type": "code",
   "execution_count": 2,
   "id": "6afcb47e",
   "metadata": {},
   "outputs": [],
   "source": [
    "import json\n",
    "import os"
   ]
  },
  {
   "cell_type": "code",
   "execution_count": null,
   "id": "886d12c8",
   "metadata": {},
   "outputs": [],
   "source": [
    "\n",
    "# Load large Bible JSON object from file\n",
    "with open('nabre.json', 'r', encoding='utf-8') as f:\n",
    "    bible_data = json.load(f)\n",
    "\n",
    "# Output folder (create if not exists)\n",
    "output_dir = 'verses'\n",
    "os.makedirs(output_dir, exist_ok=True)\n",
    "\n",
    "# Target chapters and verses\n",
    "chapter_range = range(1, 13)  #Get all chapters/hours from 1 - 12\n",
    "\n",
    "# Iterate through desired chapter and verse numbers\n",
    "for chapter_num in chapter_range:\n",
    "    for verse_num in range(1, 60):  #Get all verses.minutes from 1 - 59\n",
    "        collected = []\n",
    "\n",
    "        for book in bible_data:\n",
    "            book_name = book['book']\n",
    "            chapters = book['chapters']\n",
    "\n",
    "            # Find the chapter\n",
    "            chapter = next((ch for ch in chapters if ch['chapter'] == chapter_num), None)\n",
    "            if not chapter:\n",
    "                continue\n",
    "\n",
    "            # Find the verse\n",
    "            verse = next((v for v in chapter['verses'] if v['verse'] == verse_num), None)\n",
    "            if not verse:\n",
    "                continue\n",
    "\n",
    "            collected.append({\n",
    "                \"book\": book_name,\n",
    "                \"chapter\": chapter_num,\n",
    "                \"verse\": verse_num,\n",
    "                \"text\": verse['text']\n",
    "            })\n",
    "\n",
    "        # If we collected any verses, save to file\n",
    "        if collected:\n",
    "            filename = f'chapter{chapter_num}_verse{verse_num}.json'\n",
    "            filepath = os.path.join(output_dir, filename)\n",
    "\n",
    "            with open(filepath, 'w', encoding='utf-8') as out_file:\n",
    "                json.dump(collected, out_file, ensure_ascii=False, indent=2)\n"
   ]
  }
 ],
 "metadata": {
  "kernelspec": {
   "display_name": "Python 3",
   "language": "python",
   "name": "python3"
  },
  "language_info": {
   "codemirror_mode": {
    "name": "ipython",
    "version": 3
   },
   "file_extension": ".py",
   "mimetype": "text/x-python",
   "name": "python",
   "nbconvert_exporter": "python",
   "pygments_lexer": "ipython3",
   "version": "3.9.6"
  }
 },
 "nbformat": 4,
 "nbformat_minor": 5
}
